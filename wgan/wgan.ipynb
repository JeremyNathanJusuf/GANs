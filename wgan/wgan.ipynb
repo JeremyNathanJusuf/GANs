{
 "cells": [
  {
   "cell_type": "code",
   "execution_count": 1,
   "metadata": {
    "execution": {
     "iopub.execute_input": "2024-12-26T13:19:17.315496Z",
     "iopub.status.busy": "2024-12-26T13:19:17.315242Z",
     "iopub.status.idle": "2024-12-26T13:19:21.292596Z",
     "shell.execute_reply": "2024-12-26T13:19:21.291726Z",
     "shell.execute_reply.started": "2024-12-26T13:19:17.315453Z"
    },
    "trusted": true
   },
   "outputs": [],
   "source": [
    "import os \n",
    "import numpy as np\n",
    "import matplotlib.pyplot as plt\n",
    "import matplotlib.animation as animation\n",
    "from tqdm import tqdm\n",
    "\n",
    "import torch\n",
    "import torch.nn as nn\n",
    "import torch.optim as optim\n",
    "import torchvision.datasets as datasets\n",
    "import torchvision.utils as vutils\n",
    "import torchvision.transforms as transforms"
   ]
  },
  {
   "cell_type": "code",
   "execution_count": 2,
   "metadata": {
    "execution": {
     "iopub.execute_input": "2024-12-26T13:19:23.831901Z",
     "iopub.status.busy": "2024-12-26T13:19:23.831614Z",
     "iopub.status.idle": "2024-12-26T13:19:23.836194Z",
     "shell.execute_reply": "2024-12-26T13:19:23.835418Z",
     "shell.execute_reply.started": "2024-12-26T13:19:23.831880Z"
    },
    "trusted": true
   },
   "outputs": [],
   "source": [
    "# data_path = '../datasets/celeba_data'\n",
    "data_path = '../datasets/anime_data'\n",
    "workers = 2\n",
    "img_size = 64\n",
    "batch_size = 128\n",
    "\n",
    "# number of channels and latent size\n",
    "nc = 3\n",
    "nz = 100\n",
    "\n",
    "# feature map sizes (generator and discriminator)\n",
    "ngf = 64\n",
    "ndf = 64\n",
    "\n",
    "num_train_d = 5\n",
    "weight_clip = 0.01\n",
    "\n",
    "num_epochs = 15\n",
    "lr_d = 5e-4\n",
    "lr_g = 2e-4\n",
    "beta1 = 0.5\n"
   ]
  },
  {
   "cell_type": "code",
   "execution_count": 3,
   "metadata": {
    "execution": {
     "iopub.execute_input": "2024-12-26T13:19:37.162746Z",
     "iopub.status.busy": "2024-12-26T13:19:37.162396Z",
     "iopub.status.idle": "2024-12-26T13:21:16.078227Z",
     "shell.execute_reply": "2024-12-26T13:21:16.077256Z",
     "shell.execute_reply.started": "2024-12-26T13:19:37.162720Z"
    },
    "trusted": true
   },
   "outputs": [],
   "source": [
    "device = \"cuda\" if torch.cuda.is_available() else \"cpu\"\n",
    "\n",
    "dataset = datasets.ImageFolder(\n",
    "    root=data_path,\n",
    "    transform=transforms.Compose([\n",
    "        transforms.Resize(img_size),\n",
    "        transforms.CenterCrop(img_size),\n",
    "        transforms.ToTensor(),\n",
    "        transforms.Normalize(\n",
    "            (0.5, 0.5, 0.5),\n",
    "            (0.5, 0.5, 0.5)\n",
    "        )\n",
    "    ])\n",
    ")\n",
    "\n",
    "dataloader = torch.utils.data.DataLoader(\n",
    "    dataset,\n",
    "    batch_size=batch_size,\n",
    "    shuffle=True,\n",
    "    num_workers=workers\n",
    ")"
   ]
  },
  {
   "cell_type": "code",
   "execution_count": 4,
   "metadata": {
    "execution": {
     "iopub.execute_input": "2024-12-26T13:21:16.079610Z",
     "iopub.status.busy": "2024-12-26T13:21:16.079281Z",
     "iopub.status.idle": "2024-12-26T13:21:16.083941Z",
     "shell.execute_reply": "2024-12-26T13:21:16.082982Z",
     "shell.execute_reply.started": "2024-12-26T13:21:16.079578Z"
    },
    "trusted": true
   },
   "outputs": [
    {
     "name": "stdout",
     "output_type": "stream",
     "text": [
      "using device cuda\n"
     ]
    }
   ],
   "source": [
    "print('using device', device)"
   ]
  },
  {
   "cell_type": "code",
   "execution_count": 5,
   "metadata": {
    "execution": {
     "iopub.execute_input": "2024-12-26T13:21:16.086027Z",
     "iopub.status.busy": "2024-12-26T13:21:16.085764Z",
     "iopub.status.idle": "2024-12-26T13:21:16.101755Z",
     "shell.execute_reply": "2024-12-26T13:21:16.100901Z",
     "shell.execute_reply.started": "2024-12-26T13:21:16.086002Z"
    },
    "trusted": true
   },
   "outputs": [],
   "source": [
    "def weights_init(m):\n",
    "    class_name = m.__class__.__name__\n",
    "    if class_name.find('Conv') != -1:\n",
    "        nn.init.normal_(m.weight.data, 0.0, 0.02)\n",
    "    elif class_name.find('BatchNorm') != -1:\n",
    "        nn.init.normal_(m.weight.data, 1.0, 0.02)\n",
    "        nn.init.constant_(m.bias.data, 0)"
   ]
  },
  {
   "cell_type": "code",
   "execution_count": 6,
   "metadata": {
    "execution": {
     "iopub.execute_input": "2024-12-26T13:21:16.103354Z",
     "iopub.status.busy": "2024-12-26T13:21:16.103025Z",
     "iopub.status.idle": "2024-12-26T13:21:16.117414Z",
     "shell.execute_reply": "2024-12-26T13:21:16.116555Z",
     "shell.execute_reply.started": "2024-12-26T13:21:16.103324Z"
    },
    "trusted": true
   },
   "outputs": [],
   "source": [
    "class Generator(nn.Module):\n",
    "    def __init__(self):\n",
    "        super(Generator, self).__init__()\n",
    "        self.net = nn.Sequential(\n",
    "            nn.ConvTranspose2d(nz, ngf*8, 4, 1, 0, bias=False),\n",
    "            nn.BatchNorm2d(ngf*8),\n",
    "            nn.ReLU(),\n",
    "            \n",
    "            nn.ConvTranspose2d(ngf*8, ngf*4, 4, 2, 1, bias=False),\n",
    "            nn.BatchNorm2d(ngf*4),\n",
    "            nn.ReLU(),\n",
    "            \n",
    "            nn.ConvTranspose2d(ngf*4, ngf*2, 4, 2, 1, bias=False),\n",
    "            nn.BatchNorm2d(ngf*2),\n",
    "            nn.ReLU(),\n",
    "            \n",
    "            nn.ConvTranspose2d(ngf*2, ngf, 4, 2, 1, bias=False),\n",
    "            nn.BatchNorm2d(ngf),\n",
    "            nn.ReLU(),\n",
    "            \n",
    "            nn.ConvTranspose2d(ngf, nc, 4, 2, 1, bias=False),\n",
    "            nn.Tanh()\n",
    "        )\n",
    "    \n",
    "    def forward(self, x):\n",
    "        return self.net(x)"
   ]
  },
  {
   "cell_type": "code",
   "execution_count": 7,
   "metadata": {
    "execution": {
     "iopub.execute_input": "2024-12-26T13:21:16.118504Z",
     "iopub.status.busy": "2024-12-26T13:21:16.118210Z",
     "iopub.status.idle": "2024-12-26T13:21:16.135066Z",
     "shell.execute_reply": "2024-12-26T13:21:16.134195Z",
     "shell.execute_reply.started": "2024-12-26T13:21:16.118459Z"
    },
    "trusted": true
   },
   "outputs": [],
   "source": [
    "class Discriminator(nn.Module):\n",
    "    def __init__(self):\n",
    "        super(Discriminator, self).__init__()\n",
    "        self.net = nn.Sequential(\n",
    "            nn.Conv2d(nc, ndf, 4, 2, 1, bias=False),\n",
    "            nn.LeakyReLU(0.2, inplace=True),\n",
    "            \n",
    "            nn.Conv2d(ndf, ndf*2, 4, 2, 1, bias=False),\n",
    "            nn.BatchNorm2d(ndf*2),\n",
    "            nn.LeakyReLU(0.2, inplace=True),\n",
    "            \n",
    "            nn.Conv2d(ndf*2, ndf*4, 4, 2, 1, bias=False),\n",
    "            nn.BatchNorm2d(ndf*4),\n",
    "            nn.LeakyReLU(0.2, inplace=True),\n",
    "            \n",
    "            nn.Conv2d(ndf*4, ndf*8, 4, 2, 1, bias=False),\n",
    "            nn.BatchNorm2d(ndf*8),\n",
    "            nn.LeakyReLU(0.2, inplace=True),\n",
    "            \n",
    "            nn.Conv2d(ndf*8, 1, 4, 1, 0, bias=False),\n",
    "        )\n",
    "        \n",
    "    def forward(self, x):\n",
    "        return self.net(x)"
   ]
  },
  {
   "cell_type": "code",
   "execution_count": 8,
   "metadata": {
    "execution": {
     "iopub.execute_input": "2024-12-26T13:21:16.136211Z",
     "iopub.status.busy": "2024-12-26T13:21:16.135874Z",
     "iopub.status.idle": "2024-12-26T13:21:16.460219Z",
     "shell.execute_reply": "2024-12-26T13:21:16.459400Z",
     "shell.execute_reply.started": "2024-12-26T13:21:16.136152Z"
    },
    "trusted": true
   },
   "outputs": [
    {
     "data": {
      "text/plain": [
       "Generator(\n",
       "  (net): Sequential(\n",
       "    (0): ConvTranspose2d(100, 512, kernel_size=(4, 4), stride=(1, 1), bias=False)\n",
       "    (1): BatchNorm2d(512, eps=1e-05, momentum=0.1, affine=True, track_running_stats=True)\n",
       "    (2): ReLU()\n",
       "    (3): ConvTranspose2d(512, 256, kernel_size=(4, 4), stride=(2, 2), padding=(1, 1), bias=False)\n",
       "    (4): BatchNorm2d(256, eps=1e-05, momentum=0.1, affine=True, track_running_stats=True)\n",
       "    (5): ReLU()\n",
       "    (6): ConvTranspose2d(256, 128, kernel_size=(4, 4), stride=(2, 2), padding=(1, 1), bias=False)\n",
       "    (7): BatchNorm2d(128, eps=1e-05, momentum=0.1, affine=True, track_running_stats=True)\n",
       "    (8): ReLU()\n",
       "    (9): ConvTranspose2d(128, 64, kernel_size=(4, 4), stride=(2, 2), padding=(1, 1), bias=False)\n",
       "    (10): BatchNorm2d(64, eps=1e-05, momentum=0.1, affine=True, track_running_stats=True)\n",
       "    (11): ReLU()\n",
       "    (12): ConvTranspose2d(64, 3, kernel_size=(4, 4), stride=(2, 2), padding=(1, 1), bias=False)\n",
       "    (13): Tanh()\n",
       "  )\n",
       ")"
      ]
     },
     "execution_count": 8,
     "metadata": {},
     "output_type": "execute_result"
    }
   ],
   "source": [
    "generator = Generator().to(device)\n",
    "generator.apply(weights_init)"
   ]
  },
  {
   "cell_type": "code",
   "execution_count": 9,
   "metadata": {
    "execution": {
     "iopub.execute_input": "2024-12-26T13:21:16.461295Z",
     "iopub.status.busy": "2024-12-26T13:21:16.460994Z",
     "iopub.status.idle": "2024-12-26T13:21:16.495202Z",
     "shell.execute_reply": "2024-12-26T13:21:16.494563Z",
     "shell.execute_reply.started": "2024-12-26T13:21:16.461271Z"
    },
    "trusted": true
   },
   "outputs": [
    {
     "data": {
      "text/plain": [
       "Discriminator(\n",
       "  (net): Sequential(\n",
       "    (0): Conv2d(3, 64, kernel_size=(4, 4), stride=(2, 2), padding=(1, 1), bias=False)\n",
       "    (1): LeakyReLU(negative_slope=0.2, inplace=True)\n",
       "    (2): Conv2d(64, 128, kernel_size=(4, 4), stride=(2, 2), padding=(1, 1), bias=False)\n",
       "    (3): BatchNorm2d(128, eps=1e-05, momentum=0.1, affine=True, track_running_stats=True)\n",
       "    (4): LeakyReLU(negative_slope=0.2, inplace=True)\n",
       "    (5): Conv2d(128, 256, kernel_size=(4, 4), stride=(2, 2), padding=(1, 1), bias=False)\n",
       "    (6): BatchNorm2d(256, eps=1e-05, momentum=0.1, affine=True, track_running_stats=True)\n",
       "    (7): LeakyReLU(negative_slope=0.2, inplace=True)\n",
       "    (8): Conv2d(256, 512, kernel_size=(4, 4), stride=(2, 2), padding=(1, 1), bias=False)\n",
       "    (9): BatchNorm2d(512, eps=1e-05, momentum=0.1, affine=True, track_running_stats=True)\n",
       "    (10): LeakyReLU(negative_slope=0.2, inplace=True)\n",
       "    (11): Conv2d(512, 1, kernel_size=(4, 4), stride=(1, 1), bias=False)\n",
       "  )\n",
       ")"
      ]
     },
     "execution_count": 9,
     "metadata": {},
     "output_type": "execute_result"
    }
   ],
   "source": [
    "discriminator = Discriminator().to(device)\n",
    "discriminator.apply(weights_init)"
   ]
  },
  {
   "cell_type": "code",
   "execution_count": 10,
   "metadata": {
    "execution": {
     "iopub.execute_input": "2024-12-26T13:21:16.496982Z",
     "iopub.status.busy": "2024-12-26T13:21:16.496770Z",
     "iopub.status.idle": "2024-12-26T13:21:16.501256Z",
     "shell.execute_reply": "2024-12-26T13:21:16.500437Z",
     "shell.execute_reply.started": "2024-12-26T13:21:16.496963Z"
    },
    "trusted": true
   },
   "outputs": [],
   "source": [
    "optimizer_d = optim.RMSprop(discriminator.parameters(), lr=lr_d)\n",
    "optimizer_g = optim.RMSprop(generator.parameters(), lr=lr_g)\n",
    "\n",
    "def get_noise(batch_size, noise_dim):\n",
    "    return torch.randn(batch_size, noise_dim, 1, 1, device=device)"
   ]
  },
  {
   "cell_type": "code",
   "execution_count": 11,
   "metadata": {
    "execution": {
     "iopub.execute_input": "2024-12-26T13:21:16.502443Z",
     "iopub.status.busy": "2024-12-26T13:21:16.502159Z",
     "iopub.status.idle": "2024-12-26T14:58:14.808364Z",
     "shell.execute_reply": "2024-12-26T14:58:14.807396Z",
     "shell.execute_reply.started": "2024-12-26T13:21:16.502407Z"
    },
    "trusted": true
   },
   "outputs": [
    {
     "name": "stderr",
     "output_type": "stream",
     "text": [
      "100%|██████████| 497/497 [06:24<00:00,  1.29it/s]"
     ]
    },
    {
     "name": "stdout",
     "output_type": "stream",
     "text": [
      "Epoch [1/15], Loss D: -1.3020, Loss G: 0.6365\n"
     ]
    },
    {
     "name": "stderr",
     "output_type": "stream",
     "text": [
      "\n",
      "100%|██████████| 497/497 [06:29<00:00,  1.28it/s]"
     ]
    },
    {
     "name": "stdout",
     "output_type": "stream",
     "text": [
      "Epoch [2/15], Loss D: -1.1692, Loss G: 0.6112\n"
     ]
    },
    {
     "name": "stderr",
     "output_type": "stream",
     "text": [
      "\n",
      "100%|██████████| 497/497 [06:27<00:00,  1.28it/s]"
     ]
    },
    {
     "name": "stdout",
     "output_type": "stream",
     "text": [
      "Epoch [3/15], Loss D: -0.8118, Loss G: 0.5806\n"
     ]
    },
    {
     "name": "stderr",
     "output_type": "stream",
     "text": [
      "\n",
      "100%|██████████| 497/497 [06:27<00:00,  1.28it/s]"
     ]
    },
    {
     "name": "stdout",
     "output_type": "stream",
     "text": [
      "Epoch [4/15], Loss D: -0.8242, Loss G: 0.2824\n"
     ]
    },
    {
     "name": "stderr",
     "output_type": "stream",
     "text": [
      "\n",
      "100%|██████████| 497/497 [06:28<00:00,  1.28it/s]"
     ]
    },
    {
     "name": "stdout",
     "output_type": "stream",
     "text": [
      "Epoch [5/15], Loss D: -0.5926, Loss G: 0.0574\n"
     ]
    },
    {
     "name": "stderr",
     "output_type": "stream",
     "text": [
      "\n",
      "100%|██████████| 497/497 [06:27<00:00,  1.28it/s]"
     ]
    },
    {
     "name": "stdout",
     "output_type": "stream",
     "text": [
      "Epoch [6/15], Loss D: -0.8474, Loss G: 0.5345\n"
     ]
    },
    {
     "name": "stderr",
     "output_type": "stream",
     "text": [
      "\n",
      "100%|██████████| 497/497 [06:27<00:00,  1.28it/s]"
     ]
    },
    {
     "name": "stdout",
     "output_type": "stream",
     "text": [
      "Epoch [7/15], Loss D: -0.7706, Loss G: 0.2364\n"
     ]
    },
    {
     "name": "stderr",
     "output_type": "stream",
     "text": [
      "\n",
      "100%|██████████| 497/497 [06:27<00:00,  1.28it/s]"
     ]
    },
    {
     "name": "stdout",
     "output_type": "stream",
     "text": [
      "Epoch [8/15], Loss D: -0.5848, Loss G: 0.0868\n"
     ]
    },
    {
     "name": "stderr",
     "output_type": "stream",
     "text": [
      "\n",
      "100%|██████████| 497/497 [06:27<00:00,  1.28it/s]"
     ]
    },
    {
     "name": "stdout",
     "output_type": "stream",
     "text": [
      "Epoch [9/15], Loss D: -0.4325, Loss G: 0.0275\n"
     ]
    },
    {
     "name": "stderr",
     "output_type": "stream",
     "text": [
      "\n",
      "100%|██████████| 497/497 [06:27<00:00,  1.28it/s]"
     ]
    },
    {
     "name": "stdout",
     "output_type": "stream",
     "text": [
      "Epoch [10/15], Loss D: -0.5365, Loss G: 0.1703\n"
     ]
    },
    {
     "name": "stderr",
     "output_type": "stream",
     "text": [
      "\n",
      "100%|██████████| 497/497 [06:27<00:00,  1.28it/s]"
     ]
    },
    {
     "name": "stdout",
     "output_type": "stream",
     "text": [
      "Epoch [11/15], Loss D: -0.7135, Loss G: 0.1311\n"
     ]
    },
    {
     "name": "stderr",
     "output_type": "stream",
     "text": [
      "\n",
      "100%|██████████| 497/497 [06:27<00:00,  1.28it/s]"
     ]
    },
    {
     "name": "stdout",
     "output_type": "stream",
     "text": [
      "Epoch [12/15], Loss D: -0.5011, Loss G: -0.0685\n"
     ]
    },
    {
     "name": "stderr",
     "output_type": "stream",
     "text": [
      "\n",
      "100%|██████████| 497/497 [06:27<00:00,  1.28it/s]"
     ]
    },
    {
     "name": "stdout",
     "output_type": "stream",
     "text": [
      "Epoch [13/15], Loss D: -0.4604, Loss G: 0.0403\n"
     ]
    },
    {
     "name": "stderr",
     "output_type": "stream",
     "text": [
      "\n",
      "100%|██████████| 497/497 [06:28<00:00,  1.28it/s]"
     ]
    },
    {
     "name": "stdout",
     "output_type": "stream",
     "text": [
      "Epoch [14/15], Loss D: -0.5371, Loss G: 0.3334\n"
     ]
    },
    {
     "name": "stderr",
     "output_type": "stream",
     "text": [
      "\n",
      "100%|██████████| 497/497 [06:29<00:00,  1.28it/s]"
     ]
    },
    {
     "name": "stdout",
     "output_type": "stream",
     "text": [
      "Epoch [15/15], Loss D: -0.5702, Loss G: 0.5588\n"
     ]
    },
    {
     "name": "stderr",
     "output_type": "stream",
     "text": [
      "\n"
     ]
    }
   ],
   "source": [
    "os.makedirs('./anime_wgan_results', exist_ok=True)\n",
    "loss_d_list, loss_g_list = [], []\n",
    "\n",
    "for epoch in range(num_epochs):\n",
    "    total_loss_d, total_loss_g = 0, 0\n",
    "    for i, (images, _) in tqdm(enumerate(dataloader), total=len(dataloader)):\n",
    "        batch_size = images.size(0)\n",
    "        \n",
    "        for _ in range(num_train_d):\n",
    "            z = get_noise(batch_size, nz)\n",
    "            fake_images = generator(z)\n",
    "            outputs_real = discriminator(images.to(device)).view(-1)\n",
    "            outputs_fake = discriminator(fake_images.detach()).view(-1)\n",
    "            \n",
    "            loss_d = torch.mean(outputs_fake) - torch.mean(outputs_real)\n",
    "            \n",
    "            discriminator.zero_grad()\n",
    "            loss_d.backward(retain_graph=True)\n",
    "            optimizer_d.step()\n",
    "            \n",
    "            for p in discriminator.parameters():\n",
    "                p.data.clamp_(-weight_clip, weight_clip)\n",
    "            \n",
    "        outputs = discriminator(fake_images).view(-1)\n",
    "        loss_g = -1 * torch.mean(outputs)\n",
    "        \n",
    "        generator.zero_grad()\n",
    "        loss_g.backward()\n",
    "        optimizer_g.step()\n",
    "        \n",
    "        total_loss_d += loss_d.item()\n",
    "        total_loss_g += loss_g.item()\n",
    "    \n",
    "    total_loss_d /= len(dataloader)\n",
    "    total_loss_g /= len(dataloader)\n",
    "    loss_d_list.append(total_loss_d)\n",
    "    loss_g_list.append(total_loss_g)\n",
    "    \n",
    "    print(f'Epoch [{epoch+1}/{num_epochs}], Loss D: {loss_d.item():.4f}, Loss G: {loss_g.item():.4f}')\n",
    "    \n",
    "    fake_images = fake_images.reshape(batch_size, 3, img_size, img_size)\n",
    "    vutils.save_image(fake_images, f'./anime_wgan_results/fake_anime_results_{epoch+1}.png', normalize=True)\n",
    "        "
   ]
  },
  {
   "cell_type": "code",
   "execution_count": null,
   "metadata": {},
   "outputs": [],
   "source": []
  }
 ],
 "metadata": {
  "kaggle": {
   "accelerator": "nvidiaTeslaT4",
   "dataSources": [
    {
     "datasetId": 29561,
     "sourceId": 37705,
     "sourceType": "datasetVersion"
    },
    {
     "datasetId": 379764,
     "sourceId": 737475,
     "sourceType": "datasetVersion"
    }
   ],
   "dockerImageVersionId": 30823,
   "isGpuEnabled": true,
   "isInternetEnabled": true,
   "language": "python",
   "sourceType": "notebook"
  },
  "kernelspec": {
   "display_name": "SC4001",
   "language": "python",
   "name": "python3"
  },
  "language_info": {
   "codemirror_mode": {
    "name": "ipython",
    "version": 3
   },
   "file_extension": ".py",
   "mimetype": "text/x-python",
   "name": "python",
   "nbconvert_exporter": "python",
   "pygments_lexer": "ipython3",
   "version": "3.9.19"
  }
 },
 "nbformat": 4,
 "nbformat_minor": 4
}
